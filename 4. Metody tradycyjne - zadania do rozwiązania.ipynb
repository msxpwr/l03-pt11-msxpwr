{
 "cells": [
  {
   "cell_type": "markdown",
   "id": "aa460fe9",
   "metadata": {},
   "source": [
    "Przed oddaniem zadania upewnij się, że wszystko działa poprawnie.\n",
    "**Uruchom ponownie kernel** (z paska menu: Kernel$\\rightarrow$Restart) a następnie\n",
    "**wykonaj wszystkie komórki** (z paska menu: Cell$\\rightarrow$Run All).\n",
    "\n",
    "Upewnij się, że wypełniłeś wszystkie pola `TU WPISZ KOD` lub `TU WPISZ ODPOWIEDŹ`, oraz\n",
    "że podałeś swoje imię i nazwisko poniżej:"
   ]
  },
  {
   "cell_type": "code",
   "execution_count": null,
   "id": "61e15a2c",
   "metadata": {},
   "outputs": [],
   "source": [
    "NAME = \"\""
   ]
  },
  {
   "cell_type": "markdown",
   "id": "6d47b5b5",
   "metadata": {},
   "source": [
    "---"
   ]
  },
  {
   "cell_type": "markdown",
   "id": "d39eb517",
   "metadata": {},
   "source": [
    "# 4. Metody tradycyjne - zadania do rozwiązania"
   ]
  },
  {
   "cell_type": "code",
   "execution_count": null,
   "id": "3b570a6a",
   "metadata": {},
   "outputs": [],
   "source": [
    "%run \"2. Zadania w przetwarzaniu grafów.ipynb\""
   ]
  },
  {
   "cell_type": "markdown",
   "id": "88ceca18",
   "metadata": {},
   "source": [
    "### Zadanie 4.1. (2.5 pkt)\n",
    "W poprzednim zeszycie zbadaliśmy jakość reprezentacji otrzymywanych za pomocą metody DeepWalk. W tym zadaniu zbadaj wpływ parametrów `p` i `q` na jakość działania metody Node2vec ($p \\neq 1$ oraz $q \\neq 1$):\n",
    "- wybierz kilka (min. 4) wartości dla każdego parametru\n",
    "- podsumuj w tabelce jakość wyznaczonych reprezentacji w zadaniu klasyfikacji wierzchołków na zbiorze Cora\n",
    "- pamiętaj, aby eksperyment dla każdego pojedynczego zestawu parametrów powtórzyć kilkukrotnie (np. 5 razy)\n",
    "- wyniki podaj w postaci: \"średnie testowe AUC $\\pm$ odchylenie standardowe\".\n",
    "\n",
    "Który zestaw parametrów zadziałał najlepiej?"
   ]
  },
  {
   "cell_type": "code",
   "execution_count": null,
   "id": "8acffeb9",
   "metadata": {
    "deletable": false,
    "nbgrader": {
     "cell_type": "code",
     "checksum": "89fbffb2a4eed4230ba3c51224aa6b0e",
     "grade": true,
     "grade_id": "explore_node2vec_hyperparams",
     "locked": false,
     "points": 2.5,
     "schema_version": 3,
     "solution": true,
     "task": false
    }
   },
   "outputs": [],
   "source": [
    "# TU WPISZ KOD\n",
    "raise NotImplementedError()"
   ]
  },
  {
   "cell_type": "markdown",
   "id": "f7c06d06",
   "metadata": {},
   "source": [
    "### Zadanie 4.2. (2 pkt)\n",
    "Korzystając z wyznaczonych najlepszych parametrów dla Node2vec'a, porównaj jakość reprezentacji krawędzi otrzymywanych za pomocą różnych transformacji:\n",
    "- wykorzystaj zbiór Cora\n",
    "- zbadaj 4 transformacje: \"average\", \"hadamard\", \"L1\" oraz \"L2\"\n",
    "- każdy eksperyment powtórz kilkukrotnie (np. 5 razy)\n",
    "- podsumuj wyniki w tabelce, zapisując wynik pojedynczego eksperymentu w postaci: \"średnie testowe AUC $\\pm$ odchylenie standardowe\"\n",
    "\n",
    "Która transformacja działa najlepiej?"
   ]
  },
  {
   "cell_type": "code",
   "execution_count": null,
   "id": "3e3ee1b1",
   "metadata": {
    "deletable": false,
    "nbgrader": {
     "cell_type": "code",
     "checksum": "29c5ced0a387171fb2db865bac41b577",
     "grade": true,
     "grade_id": "compare_edge_embedding_transformations",
     "locked": false,
     "points": 2,
     "schema_version": 3,
     "solution": true,
     "task": false
    }
   },
   "outputs": [],
   "source": [
    "# TU WPISZ KOD\n",
    "raise NotImplementedError()"
   ]
  },
  {
   "cell_type": "markdown",
   "id": "eb7f9929",
   "metadata": {},
   "source": [
    "### Zadanie 4.3. (1.5 pkt)\n",
    "Korzystając z wyznaczonych najlepszych parametrów dla Node2vec'a, porównaj jakość reprezentacji grafów otrzymywanych za pomocą różnych transformacji:\n",
    "- wykorzystaj zbiór ENZYMES (może być podzbiór wykorzystany w poprzednim zeszycie)\n",
    "- zbadaj 3 transformacje: \"average\", \"max_pooling\", \"min_pooling\"\n",
    "- każdy eksperyment powtórz kilkukrotnie (np. 5 razy)\n",
    "- podsumuj wyniki w tabelce, zapisując wynik pojedynczego eksperymentu w postaci: \"średnie testowe AUC $\\pm$ odchylenie standardowe\"\n",
    "\n",
    "Która transformacja działa najlepiej?"
   ]
  },
  {
   "cell_type": "code",
   "execution_count": null,
   "id": "6427acdb",
   "metadata": {
    "deletable": false,
    "nbgrader": {
     "cell_type": "code",
     "checksum": "f0a9fc4384497c2cb338e24edd06275b",
     "grade": true,
     "grade_id": "compare_graph_pooling_transformations",
     "locked": false,
     "points": 1.5,
     "schema_version": 3,
     "solution": true,
     "task": false
    }
   },
   "outputs": [],
   "source": [
    "# TU WPISZ KOD\n",
    "raise NotImplementedError()"
   ]
  },
  {
   "cell_type": "code",
   "execution_count": null,
   "id": "85b39a77",
   "metadata": {},
   "outputs": [],
   "source": []
  }
 ],
 "metadata": {
  "kernelspec": {
   "display_name": "Python 3 (ipykernel)",
   "language": "python",
   "name": "python3"
  },
  "language_info": {
   "codemirror_mode": {
    "name": "ipython",
    "version": 3
   },
   "file_extension": ".py",
   "mimetype": "text/x-python",
   "name": "python",
   "nbconvert_exporter": "python",
   "pygments_lexer": "ipython3",
   "version": "3.10.11"
  }
 },
 "nbformat": 4,
 "nbformat_minor": 5
}
